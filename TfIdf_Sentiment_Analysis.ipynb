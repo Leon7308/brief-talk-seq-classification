{
  "nbformat": 4,
  "nbformat_minor": 0,
  "metadata": {
    "colab": {
      "provenance": [],
      "collapsed_sections": []
    },
    "kernelspec": {
      "name": "python3",
      "display_name": "Python 3"
    },
    "language_info": {
      "name": "python"
    }
  },
  "cells": [
    {
      "cell_type": "code",
      "metadata": {
        "id": "qEb3IHdW3QZn",
        "colab": {
          "base_uri": "https://localhost:8080/"
        },
        "outputId": "62077127-a751-4a87-a7cd-af101915277a"
      },
      "source": [
        "# Connect colab to google drive\n",
        "# Since this project uses my google drive, you will have to upload the required files to your google drive for this to work. Alternatively, you can change the file locations to the dataset paths  \n",
        "from google.colab import drive\n",
        "drive.mount('/content/drive')"
      ],
      "execution_count": null,
      "outputs": [
        {
          "output_type": "stream",
          "name": "stdout",
          "text": [
            "Mounted at /content/drive\n"
          ]
        }
      ]
    },
    {
      "cell_type": "code",
      "metadata": {
        "id": "1pGMfScc4eHI"
      },
      "source": [
        "# Specify path for dataset\n",
        "\n",
        "train_path = '/content/drive/My Drive/sentiment_analysis/Train.csv'\n",
        "validate_path = '/content/drive/My Drive/sentiment_analysis/Valid.csv'\n",
        "test_path = '/content/drive/My Drive/sentiment_analysis/Test.csv'"
      ],
      "execution_count": null,
      "outputs": []
    },
    {
      "cell_type": "code",
      "metadata": {
        "id": "_UF0sR1Y5ey7",
        "colab": {
          "base_uri": "https://localhost:8080/",
          "height": 204
        },
        "outputId": "82fa1cec-c898-4700-e938-078b2b2053ae"
      },
      "source": [
        "import numpy as np #linear algebra\n",
        "import pandas as pd #data processing, CSV file I/O (e.g. pd.read_csv)\n",
        "\n",
        "# Use pandas to read csv files\n",
        "train_data = pd.read_csv(train_path).head(2000) #Taking first 2000 values\n",
        "valid_data = pd.read_csv(validate_path).head(200) #Taking first 200 values\n",
        "test_data = pd.read_csv(test_path).head(200) #Taking first 200 values\n",
        "\n",
        "train_data.head()"
      ],
      "execution_count": null,
      "outputs": [
        {
          "output_type": "execute_result",
          "data": {
            "text/html": [
              "<div>\n",
              "<style scoped>\n",
              "    .dataframe tbody tr th:only-of-type {\n",
              "        vertical-align: middle;\n",
              "    }\n",
              "\n",
              "    .dataframe tbody tr th {\n",
              "        vertical-align: top;\n",
              "    }\n",
              "\n",
              "    .dataframe thead th {\n",
              "        text-align: right;\n",
              "    }\n",
              "</style>\n",
              "<table border=\"1\" class=\"dataframe\">\n",
              "  <thead>\n",
              "    <tr style=\"text-align: right;\">\n",
              "      <th></th>\n",
              "      <th>text</th>\n",
              "      <th>label</th>\n",
              "    </tr>\n",
              "  </thead>\n",
              "  <tbody>\n",
              "    <tr>\n",
              "      <th>0</th>\n",
              "      <td>I grew up (b. 1965) watching and loving the Th...</td>\n",
              "      <td>0</td>\n",
              "    </tr>\n",
              "    <tr>\n",
              "      <th>1</th>\n",
              "      <td>When I put this movie in my DVD player, and sa...</td>\n",
              "      <td>0</td>\n",
              "    </tr>\n",
              "    <tr>\n",
              "      <th>2</th>\n",
              "      <td>Why do people who do not know what a particula...</td>\n",
              "      <td>0</td>\n",
              "    </tr>\n",
              "    <tr>\n",
              "      <th>3</th>\n",
              "      <td>Even though I have great interest in Biblical ...</td>\n",
              "      <td>0</td>\n",
              "    </tr>\n",
              "    <tr>\n",
              "      <th>4</th>\n",
              "      <td>Im a die hard Dads Army fan and nothing will e...</td>\n",
              "      <td>1</td>\n",
              "    </tr>\n",
              "  </tbody>\n",
              "</table>\n",
              "</div>"
            ],
            "text/plain": [
              "                                                text  label\n",
              "0  I grew up (b. 1965) watching and loving the Th...      0\n",
              "1  When I put this movie in my DVD player, and sa...      0\n",
              "2  Why do people who do not know what a particula...      0\n",
              "3  Even though I have great interest in Biblical ...      0\n",
              "4  Im a die hard Dads Army fan and nothing will e...      1"
            ]
          },
          "metadata": {},
          "execution_count": 3
        }
      ]
    },
    {
      "cell_type": "code",
      "metadata": {
        "id": "PsV1zX587jFZ",
        "colab": {
          "base_uri": "https://localhost:8080/",
          "height": 204
        },
        "outputId": "2e00a582-b41b-45ac-e484-629c37e46300"
      },
      "source": [
        "# Convert sentences to lowercase\n",
        "\n",
        "train_data['text'] = train_data['text'].str.lower()\n",
        "valid_data['text'] = valid_data['text'].str.lower()\n",
        "test_data['text'] = test_data['text'].str.lower()\n",
        "train_data.head()"
      ],
      "execution_count": null,
      "outputs": [
        {
          "output_type": "execute_result",
          "data": {
            "text/html": [
              "<div>\n",
              "<style scoped>\n",
              "    .dataframe tbody tr th:only-of-type {\n",
              "        vertical-align: middle;\n",
              "    }\n",
              "\n",
              "    .dataframe tbody tr th {\n",
              "        vertical-align: top;\n",
              "    }\n",
              "\n",
              "    .dataframe thead th {\n",
              "        text-align: right;\n",
              "    }\n",
              "</style>\n",
              "<table border=\"1\" class=\"dataframe\">\n",
              "  <thead>\n",
              "    <tr style=\"text-align: right;\">\n",
              "      <th></th>\n",
              "      <th>text</th>\n",
              "      <th>label</th>\n",
              "    </tr>\n",
              "  </thead>\n",
              "  <tbody>\n",
              "    <tr>\n",
              "      <th>0</th>\n",
              "      <td>i grew up (b. 1965) watching and loving the th...</td>\n",
              "      <td>0</td>\n",
              "    </tr>\n",
              "    <tr>\n",
              "      <th>1</th>\n",
              "      <td>when i put this movie in my dvd player, and sa...</td>\n",
              "      <td>0</td>\n",
              "    </tr>\n",
              "    <tr>\n",
              "      <th>2</th>\n",
              "      <td>why do people who do not know what a particula...</td>\n",
              "      <td>0</td>\n",
              "    </tr>\n",
              "    <tr>\n",
              "      <th>3</th>\n",
              "      <td>even though i have great interest in biblical ...</td>\n",
              "      <td>0</td>\n",
              "    </tr>\n",
              "    <tr>\n",
              "      <th>4</th>\n",
              "      <td>im a die hard dads army fan and nothing will e...</td>\n",
              "      <td>1</td>\n",
              "    </tr>\n",
              "  </tbody>\n",
              "</table>\n",
              "</div>"
            ],
            "text/plain": [
              "                                                text  label\n",
              "0  i grew up (b. 1965) watching and loving the th...      0\n",
              "1  when i put this movie in my dvd player, and sa...      0\n",
              "2  why do people who do not know what a particula...      0\n",
              "3  even though i have great interest in biblical ...      0\n",
              "4  im a die hard dads army fan and nothing will e...      1"
            ]
          },
          "metadata": {},
          "execution_count": 4
        }
      ]
    },
    {
      "cell_type": "code",
      "metadata": {
        "id": "7q0lYumA9fOU",
        "colab": {
          "base_uri": "https://localhost:8080/",
          "height": 204
        },
        "outputId": "cd3274fd-3daf-4a47-9c7f-c66562d43439"
      },
      "source": [
        "# Remove Punctuations\n",
        "\n",
        "train_data['text'] = train_data['text'].str.replace('[^\\w\\s]','')\n",
        "valid_data['text'] = valid_data['text'].str.replace('[^\\w\\s]','')\n",
        "test_data['text'] = test_data['text'].str.replace('[^\\w\\s]','')\n",
        "train_data.head()\n"
      ],
      "execution_count": null,
      "outputs": [
        {
          "output_type": "execute_result",
          "data": {
            "text/html": [
              "<div>\n",
              "<style scoped>\n",
              "    .dataframe tbody tr th:only-of-type {\n",
              "        vertical-align: middle;\n",
              "    }\n",
              "\n",
              "    .dataframe tbody tr th {\n",
              "        vertical-align: top;\n",
              "    }\n",
              "\n",
              "    .dataframe thead th {\n",
              "        text-align: right;\n",
              "    }\n",
              "</style>\n",
              "<table border=\"1\" class=\"dataframe\">\n",
              "  <thead>\n",
              "    <tr style=\"text-align: right;\">\n",
              "      <th></th>\n",
              "      <th>text</th>\n",
              "      <th>label</th>\n",
              "    </tr>\n",
              "  </thead>\n",
              "  <tbody>\n",
              "    <tr>\n",
              "      <th>0</th>\n",
              "      <td>i grew up b 1965 watching and loving the thund...</td>\n",
              "      <td>0</td>\n",
              "    </tr>\n",
              "    <tr>\n",
              "      <th>1</th>\n",
              "      <td>when i put this movie in my dvd player and sat...</td>\n",
              "      <td>0</td>\n",
              "    </tr>\n",
              "    <tr>\n",
              "      <th>2</th>\n",
              "      <td>why do people who do not know what a particula...</td>\n",
              "      <td>0</td>\n",
              "    </tr>\n",
              "    <tr>\n",
              "      <th>3</th>\n",
              "      <td>even though i have great interest in biblical ...</td>\n",
              "      <td>0</td>\n",
              "    </tr>\n",
              "    <tr>\n",
              "      <th>4</th>\n",
              "      <td>im a die hard dads army fan and nothing will e...</td>\n",
              "      <td>1</td>\n",
              "    </tr>\n",
              "  </tbody>\n",
              "</table>\n",
              "</div>"
            ],
            "text/plain": [
              "                                                text  label\n",
              "0  i grew up b 1965 watching and loving the thund...      0\n",
              "1  when i put this movie in my dvd player and sat...      0\n",
              "2  why do people who do not know what a particula...      0\n",
              "3  even though i have great interest in biblical ...      0\n",
              "4  im a die hard dads army fan and nothing will e...      1"
            ]
          },
          "metadata": {},
          "execution_count": 5
        }
      ]
    },
    {
      "cell_type": "code",
      "metadata": {
        "colab": {
          "base_uri": "https://localhost:8080/",
          "height": 238
        },
        "id": "9ht831zPC8j8",
        "outputId": "35db5c2f-d9fb-4f1f-a575-42ac7c7bd2e4"
      },
      "source": [
        "# Remove stopwords like i, in, at, ...\n",
        "from nltk.corpus import stopwords\n",
        "import nltk \n",
        "nltk.download('stopwords')\n",
        "\n",
        "stop = stopwords.words('english')\n",
        "\n",
        "train_data['text'] = train_data['text'].apply(lambda x: ' '.join([word for word in x.split() if word not in (stop)]))\n",
        "valid_data['text'] = valid_data['text'].apply(lambda x: ' '.join([word for word in x.split() if word not in (stop)]))\n",
        "test_data['text'] = test_data['text'].apply(lambda x: ' '.join([word for word in x.split() if word not in (stop)]))\n",
        "train_data.head()\n",
        "\n",
        "# You can apply Stemming or Lemmatizing after this. I haven't applied it for this particular project"
      ],
      "execution_count": null,
      "outputs": [
        {
          "output_type": "stream",
          "name": "stdout",
          "text": [
            "[nltk_data] Downloading package stopwords to /root/nltk_data...\n",
            "[nltk_data]   Unzipping corpora/stopwords.zip.\n"
          ]
        },
        {
          "output_type": "execute_result",
          "data": {
            "text/html": [
              "<div>\n",
              "<style scoped>\n",
              "    .dataframe tbody tr th:only-of-type {\n",
              "        vertical-align: middle;\n",
              "    }\n",
              "\n",
              "    .dataframe tbody tr th {\n",
              "        vertical-align: top;\n",
              "    }\n",
              "\n",
              "    .dataframe thead th {\n",
              "        text-align: right;\n",
              "    }\n",
              "</style>\n",
              "<table border=\"1\" class=\"dataframe\">\n",
              "  <thead>\n",
              "    <tr style=\"text-align: right;\">\n",
              "      <th></th>\n",
              "      <th>text</th>\n",
              "      <th>label</th>\n",
              "    </tr>\n",
              "  </thead>\n",
              "  <tbody>\n",
              "    <tr>\n",
              "      <th>0</th>\n",
              "      <td>grew b 1965 watching loving thunderbirds mates...</td>\n",
              "      <td>0</td>\n",
              "    </tr>\n",
              "    <tr>\n",
              "      <th>1</th>\n",
              "      <td>put movie dvd player sat coke chips expectatio...</td>\n",
              "      <td>0</td>\n",
              "    </tr>\n",
              "    <tr>\n",
              "      <th>2</th>\n",
              "      <td>people know particular time past like feel nee...</td>\n",
              "      <td>0</td>\n",
              "    </tr>\n",
              "    <tr>\n",
              "      <th>3</th>\n",
              "      <td>even though great interest biblical movies bor...</td>\n",
              "      <td>0</td>\n",
              "    </tr>\n",
              "    <tr>\n",
              "      <th>4</th>\n",
              "      <td>im die hard dads army fan nothing ever change ...</td>\n",
              "      <td>1</td>\n",
              "    </tr>\n",
              "  </tbody>\n",
              "</table>\n",
              "</div>"
            ],
            "text/plain": [
              "                                                text  label\n",
              "0  grew b 1965 watching loving thunderbirds mates...      0\n",
              "1  put movie dvd player sat coke chips expectatio...      0\n",
              "2  people know particular time past like feel nee...      0\n",
              "3  even though great interest biblical movies bor...      0\n",
              "4  im die hard dads army fan nothing ever change ...      1"
            ]
          },
          "metadata": {},
          "execution_count": 6
        }
      ]
    },
    {
      "cell_type": "code",
      "metadata": {
        "id": "JTu8z08_Nu7M"
      },
      "source": [
        "from sklearn.feature_extraction.text import TfidfVectorizer # term frequency inverse document frequency\n",
        "\n",
        "# Create feature vectors for every sentence \n",
        "vectorizer = TfidfVectorizer(max_features = 20000, sublinear_tf = True, use_idf = True)\n",
        "\n",
        "train_vectors = vectorizer.fit_transform(train_data['text'])\n",
        "valid_vectors = vectorizer.transform(valid_data['text'])\n",
        "test_vectors = vectorizer.transform(test_data['text'])\n",
        "\n",
        "# print(valid_vectors[1])"
      ],
      "execution_count": null,
      "outputs": []
    },
    {
      "cell_type": "code",
      "metadata": {
        "id": "xlZfU2pzKexJ"
      },
      "source": [
        "import keras\n",
        "from keras.models import Sequential\n",
        "from keras.layers import Dense\n",
        "from keras.layers import Dropout\n",
        "\n",
        "# Defining the NN model\n",
        "model = Sequential()\n",
        "model.add(Dense(20, input_shape=(train_vectors.shape[1],), activation='relu'))\n",
        "model.add(Dropout(0.3))\n",
        "model.add(Dense(1, activation='sigmoid'))\n",
        "\n",
        "# compile network\n",
        "model.compile(loss='binary_crossentropy', optimizer='adam', metrics=['accuracy'])"
      ],
      "execution_count": null,
      "outputs": []
    },
    {
      "cell_type": "code",
      "metadata": {
        "id": "EnUav2bfKjLD",
        "colab": {
          "base_uri": "https://localhost:8080/"
        },
        "outputId": "2846cceb-6bb1-4a6c-e300-9a55305f2690"
      },
      "source": [
        "# Train\n",
        "callbacks_list = [\n",
        "    keras.callbacks.ModelCheckpoint(\n",
        "        filepath='model.h5',\n",
        "        monitor='val_loss', save_best_only=True, verbose=1),\n",
        "    keras.callbacks.EarlyStopping(monitor='val_loss', patience=5,verbose=1)\n",
        "]\n",
        "\n",
        "history = model.fit(\n",
        "    train_vectors.toarray(), train_data['label'], \n",
        "    epochs=20, \n",
        "    verbose=1,\n",
        "    callbacks = callbacks_list,\n",
        "    validation_data=(valid_vectors.toarray(), valid_data['label']))"
      ],
      "execution_count": null,
      "outputs": [
        {
          "output_type": "stream",
          "name": "stdout",
          "text": [
            "Epoch 1/20\n",
            "63/63 [==============================] - 2s 10ms/step - loss: 0.6785 - accuracy: 0.7075 - val_loss: 0.6471 - val_accuracy: 0.8150\n",
            "\n",
            "Epoch 00001: val_loss improved from inf to 0.64714, saving model to model.h5\n",
            "Epoch 2/20\n",
            "63/63 [==============================] - 1s 9ms/step - loss: 0.5842 - accuracy: 0.9160 - val_loss: 0.5749 - val_accuracy: 0.8600\n",
            "\n",
            "Epoch 00002: val_loss improved from 0.64714 to 0.57491, saving model to model.h5\n",
            "Epoch 3/20\n",
            "63/63 [==============================] - 1s 9ms/step - loss: 0.4589 - accuracy: 0.9600 - val_loss: 0.5036 - val_accuracy: 0.8550\n",
            "\n",
            "Epoch 00003: val_loss improved from 0.57491 to 0.50361, saving model to model.h5\n",
            "Epoch 4/20\n",
            "63/63 [==============================] - 1s 10ms/step - loss: 0.3424 - accuracy: 0.9760 - val_loss: 0.4463 - val_accuracy: 0.8600\n",
            "\n",
            "Epoch 00004: val_loss improved from 0.50361 to 0.44625, saving model to model.h5\n",
            "Epoch 5/20\n",
            "63/63 [==============================] - 1s 9ms/step - loss: 0.2515 - accuracy: 0.9855 - val_loss: 0.4077 - val_accuracy: 0.8650\n",
            "\n",
            "Epoch 00005: val_loss improved from 0.44625 to 0.40767, saving model to model.h5\n",
            "Epoch 6/20\n",
            "63/63 [==============================] - 1s 10ms/step - loss: 0.1910 - accuracy: 0.9915 - val_loss: 0.3810 - val_accuracy: 0.8650\n",
            "\n",
            "Epoch 00006: val_loss improved from 0.40767 to 0.38101, saving model to model.h5\n",
            "Epoch 7/20\n",
            "63/63 [==============================] - 1s 10ms/step - loss: 0.1411 - accuracy: 0.9930 - val_loss: 0.3624 - val_accuracy: 0.8650\n",
            "\n",
            "Epoch 00007: val_loss improved from 0.38101 to 0.36240, saving model to model.h5\n",
            "Epoch 8/20\n",
            "63/63 [==============================] - 1s 9ms/step - loss: 0.1089 - accuracy: 0.9955 - val_loss: 0.3508 - val_accuracy: 0.8550\n",
            "\n",
            "Epoch 00008: val_loss improved from 0.36240 to 0.35081, saving model to model.h5\n",
            "Epoch 9/20\n",
            "63/63 [==============================] - 0s 8ms/step - loss: 0.0856 - accuracy: 0.9980 - val_loss: 0.3432 - val_accuracy: 0.8550\n",
            "\n",
            "Epoch 00009: val_loss improved from 0.35081 to 0.34322, saving model to model.h5\n",
            "Epoch 10/20\n",
            "63/63 [==============================] - 1s 8ms/step - loss: 0.0672 - accuracy: 0.9990 - val_loss: 0.3379 - val_accuracy: 0.8550\n",
            "\n",
            "Epoch 00010: val_loss improved from 0.34322 to 0.33793, saving model to model.h5\n",
            "Epoch 11/20\n",
            "63/63 [==============================] - 1s 9ms/step - loss: 0.0562 - accuracy: 0.9990 - val_loss: 0.3362 - val_accuracy: 0.8600\n",
            "\n",
            "Epoch 00011: val_loss improved from 0.33793 to 0.33623, saving model to model.h5\n",
            "Epoch 12/20\n",
            "63/63 [==============================] - 1s 9ms/step - loss: 0.0464 - accuracy: 0.9995 - val_loss: 0.3348 - val_accuracy: 0.8600\n",
            "\n",
            "Epoch 00012: val_loss improved from 0.33623 to 0.33483, saving model to model.h5\n",
            "Epoch 13/20\n",
            "63/63 [==============================] - 1s 10ms/step - loss: 0.0376 - accuracy: 1.0000 - val_loss: 0.3321 - val_accuracy: 0.8600\n",
            "\n",
            "Epoch 00013: val_loss improved from 0.33483 to 0.33208, saving model to model.h5\n",
            "Epoch 14/20\n",
            "63/63 [==============================] - 1s 10ms/step - loss: 0.0335 - accuracy: 1.0000 - val_loss: 0.3325 - val_accuracy: 0.8650\n",
            "\n",
            "Epoch 00014: val_loss did not improve from 0.33208\n",
            "Epoch 15/20\n",
            "63/63 [==============================] - 1s 9ms/step - loss: 0.0291 - accuracy: 1.0000 - val_loss: 0.3313 - val_accuracy: 0.8650\n",
            "\n",
            "Epoch 00015: val_loss improved from 0.33208 to 0.33128, saving model to model.h5\n",
            "Epoch 16/20\n",
            "63/63 [==============================] - 1s 11ms/step - loss: 0.0261 - accuracy: 1.0000 - val_loss: 0.3328 - val_accuracy: 0.8650\n",
            "\n",
            "Epoch 00016: val_loss did not improve from 0.33128\n",
            "Epoch 17/20\n",
            "63/63 [==============================] - 1s 9ms/step - loss: 0.0215 - accuracy: 1.0000 - val_loss: 0.3325 - val_accuracy: 0.8600\n",
            "\n",
            "Epoch 00017: val_loss did not improve from 0.33128\n",
            "Epoch 18/20\n",
            "63/63 [==============================] - 1s 9ms/step - loss: 0.0192 - accuracy: 1.0000 - val_loss: 0.3338 - val_accuracy: 0.8650\n",
            "\n",
            "Epoch 00018: val_loss did not improve from 0.33128\n",
            "Epoch 19/20\n",
            "63/63 [==============================] - 0s 8ms/step - loss: 0.0178 - accuracy: 1.0000 - val_loss: 0.3366 - val_accuracy: 0.8600\n",
            "\n",
            "Epoch 00019: val_loss did not improve from 0.33128\n",
            "Epoch 20/20\n",
            "63/63 [==============================] - 1s 8ms/step - loss: 0.0156 - accuracy: 1.0000 - val_loss: 0.3363 - val_accuracy: 0.8600\n",
            "\n",
            "Epoch 00020: val_loss did not improve from 0.33128\n",
            "Epoch 00020: early stopping\n"
          ]
        }
      ]
    },
    {
      "cell_type": "code",
      "metadata": {
        "id": "_Rp1_lWqKkCn",
        "colab": {
          "base_uri": "https://localhost:8080/",
          "height": 483
        },
        "outputId": "efbcaa57-bdd5-450b-d1ea-0b8d6546eb66"
      },
      "source": [
        "# Plot Loss graph and Accuracy Graph\n",
        "\n",
        "import matplotlib.pyplot as plt\n",
        "fig, ax = plt.subplots(1,2, figsize=(16,8))\n",
        "ax[0].plot(history.history['loss'], color='b', label=\"Training loss\")\n",
        "ax[0].plot(history.history['val_loss'], color='r', label=\"Validation loss\",axes =ax[0])\n",
        "legend = ax[0].legend(loc='best', shadow=True)\n",
        "\n",
        "ax[1].plot(history.history['accuracy'], color='b', label=\"Training accuracy\")\n",
        "ax[1].plot(history.history['val_accuracy'], color='r',label=\"Validation accuracy\")\n",
        "legend = ax[1].legend(loc='best', shadow=True)"
      ],
      "execution_count": null,
      "outputs": [
        {
          "output_type": "display_data",
          "data": {
            "image/png": "[encoded data removed]",
            "text/plain": [
              "<Figure size 1152x576 with 2 Axes>"
            ]
          },
          "metadata": {
            "needs_background": "light"
          }
        }
      ]
    },
    {
      "cell_type": "code",
      "metadata": {
        "colab": {
          "base_uri": "https://localhost:8080/"
        },
        "id": "f26ePA68SGs3",
        "outputId": "0c05071a-1d2b-447d-8667-0d798ed72150"
      },
      "source": [
        "from sklearn.metrics import classification_report\n",
        "from tensorflow.keras.models import load_model\n",
        "# Load the saved model\n",
        "model = load_model('model.h5')\n",
        "\n",
        "# Results against test data\n",
        "y_pred = model.predict(test_vectors.toarray())\n",
        "y_pred = np.round(y_pred).astype(int)\n",
        "\n",
        "print(classification_report(test_data['label'], y_pred, target_names=['Negative Review','Positive Review']))"
      ],
      "execution_count": null,
      "outputs": [
        {
          "output_type": "stream",
          "name": "stdout",
          "text": [
            "                 precision    recall  f1-score   support\n",
            "\n",
            "Negative Review       0.90      0.92      0.91       110\n",
            "Positive Review       0.90      0.88      0.89        90\n",
            "\n",
            "       accuracy                           0.90       200\n",
            "      macro avg       0.90      0.90      0.90       200\n",
            "   weighted avg       0.90      0.90      0.90       200\n",
            "\n"
          ]
        }
      ]
    }
  ]
}